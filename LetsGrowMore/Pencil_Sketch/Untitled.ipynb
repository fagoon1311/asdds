{
 "cells": [
  {
   "cell_type": "code",
   "execution_count": 1,
   "id": "f5cb58a0",
   "metadata": {},
   "outputs": [],
   "source": [
    "import cv2\n",
    "cv2.namedWindow(\"output\", cv2.WINDOW_NORMAL) "
   ]
  },
  {
   "cell_type": "markdown",
   "id": "5ac67657",
   "metadata": {},
   "source": [
    "## READING THE IMAGE"
   ]
  },
  {
   "cell_type": "code",
   "execution_count": 11,
   "id": "a16de33a",
   "metadata": {},
   "outputs": [
    {
     "data": {
      "text/plain": [
       "-1"
      ]
     },
     "execution_count": 11,
     "metadata": {},
     "output_type": "execute_result"
    }
   ],
   "source": [
    "imagetobe_sketched = cv2.imread('Fagoon.jpg')\n",
    "imS = cv2.resize(imagetobe_sketched, (500, 600))\n",
    "cv2.imshow(\"fagoon\", imS)\n",
    "cv2.waitKey(0)"
   ]
  },
  {
   "cell_type": "markdown",
   "id": "2bd3ad18",
   "metadata": {},
   "source": [
    "## Converting in gray_scale"
   ]
  },
  {
   "cell_type": "code",
   "execution_count": 12,
   "id": "c35f2a4b",
   "metadata": {},
   "outputs": [
    {
     "data": {
      "text/plain": [
       "-1"
      ]
     },
     "execution_count": 12,
     "metadata": {},
     "output_type": "execute_result"
    }
   ],
   "source": [
    "grayed_image = cv2.cvtColor(imS, cv2.COLOR_BGR2GRAY)\n",
    "cv2.imshow('new_fagoon', grayed_image)\n",
    "cv2.waitKey(0)"
   ]
  },
  {
   "cell_type": "markdown",
   "id": "6547c3eb",
   "metadata": {},
   "source": [
    "## Inverting the image"
   ]
  },
  {
   "cell_type": "code",
   "execution_count": 13,
   "id": "91909cc3",
   "metadata": {},
   "outputs": [
    {
     "data": {
      "text/plain": [
       "-1"
      ]
     },
     "execution_count": 13,
     "metadata": {},
     "output_type": "execute_result"
    }
   ],
   "source": [
    "inverted_image = 255 - grayed_image\n",
    "cv2.imshow('inverted_image', inverted_image)\n",
    "cv2.waitKey(0)"
   ]
  },
  {
   "cell_type": "markdown",
   "id": "809ede04",
   "metadata": {},
   "source": [
    "# Blurring the image and inverting it"
   ]
  },
  {
   "cell_type": "code",
   "execution_count": 14,
   "id": "218fa885",
   "metadata": {},
   "outputs": [
    {
     "data": {
      "text/plain": [
       "-1"
      ]
     },
     "execution_count": 14,
     "metadata": {},
     "output_type": "execute_result"
    }
   ],
   "source": [
    "blurred = cv2.GaussianBlur(inverted_image, (21, 21), 0)\n",
    "inverted_blurred = 255 - blurred\n",
    "pencil_sketch = cv2.divide(grayed_image, inverted_blurred, scale=256.0)\n",
    "cv2.imshow(\"Sketch\", pencil_sketch)\n",
    "cv2.waitKey(0)"
   ]
  },
  {
   "cell_type": "code",
   "execution_count": 16,
   "id": "c59c19e1",
   "metadata": {},
   "outputs": [
    {
     "data": {
      "text/plain": [
       "-1"
      ]
     },
     "execution_count": 16,
     "metadata": {},
     "output_type": "execute_result"
    }
   ],
   "source": [
    "cv2.imshow(\"original image\", imS)\n",
    "\n",
    "cv2.imshow(\"pencil sketch\", pencil_sketch)\n",
    "cv2.waitKey(0)"
   ]
  },
  {
   "cell_type": "code",
   "execution_count": null,
   "id": "4940238b",
   "metadata": {},
   "outputs": [],
   "source": []
  },
  {
   "cell_type": "code",
   "execution_count": null,
   "id": "e42a7a0d",
   "metadata": {},
   "outputs": [],
   "source": []
  }
 ],
 "metadata": {
  "kernelspec": {
   "display_name": "Python 3",
   "language": "python",
   "name": "python3"
  },
  "language_info": {
   "codemirror_mode": {
    "name": "ipython",
    "version": 3
   },
   "file_extension": ".py",
   "mimetype": "text/x-python",
   "name": "python",
   "nbconvert_exporter": "python",
   "pygments_lexer": "ipython3",
   "version": "3.8.8"
  }
 },
 "nbformat": 4,
 "nbformat_minor": 5
}
